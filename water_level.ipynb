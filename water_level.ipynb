{
 "cells": [
  {
   "cell_type": "code",
   "execution_count": 1,
   "id": "1e8b8017",
   "metadata": {},
   "outputs": [],
   "source": [
    "import pandas as pd\n",
    "import matplotlib.pyplot as plt\n",
    "from statsmodels.stats.anova import AnovaRM\n",
    "import plotly.graph_objects as go\n",
    "from plotly.subplots import make_subplots\n",
    "import numpy as np"
   ]
  },
  {
   "cell_type": "code",
   "execution_count": 2,
   "id": "6edac0fb",
   "metadata": {},
   "outputs": [
    {
     "name": "stderr",
     "output_type": "stream",
     "text": [
      "/home/uzmar/VirtualEnv/graphs_luisa/lib/python3.8/site-packages/IPython/core/interactiveshell.py:3169: DtypeWarning: Columns (30,31) have mixed types.Specify dtype option on import or set low_memory=False.\n",
      "  has_raised = await self.run_ast_nodes(code_ast.body, cell_name,\n"
     ]
    }
   ],
   "source": [
    "\n",
    "df = pd.read_csv('paper_sinkholes/Sinkhole.csv')\n",
    "\n",
    "df = df[['mes','abra','NIVEL','C/agua','A/C/F']]\n",
    "\n",
    "df = df.rename(columns={'mes':'month_year','abra':'sinkhole','NIVEL':'level','C/agua':'water','A/C/F':'open_close'})\n",
    "\n",
    "df['month_year']=pd.to_datetime(df['month_year'], format='%d/%m/%Y')\n",
    "\n",
    "df = df[df['open_close']!='ND']\n",
    "df = df.dropna(subset=['open_close','month_year'])\n",
    "\n",
    "df['year'] = pd.DatetimeIndex(df['month_year']).year\n",
    "\n",
    "#----------------------------------------------------------------------------------------------\n",
    "df['open_close'] = pd.to_numeric(df['open_close'], downcast=\"float\")\n",
    "sum_open_close_month = df.groupby('month_year')['open_close'].sum().to_dict()\n",
    "\n",
    "lista = []\n",
    "\n",
    "for key_value in sum_open_close_month.items():\n",
    "    lista.append((str(key_value[0].year),key_value[1]))\n",
    "\n",
    "years_data = pd.DataFrame(lista, columns=['year','count'])\n",
    "\n",
    "mean_open_close_year = years_data.groupby('year')['count'].mean().to_dict()\n",
    "\n",
    "mean_open_close_year_keys=[]\n",
    "mean_open_close_year_values=[]\n",
    "for key, value in mean_open_close_year.items():\n",
    "    mean_open_close_year_keys.append(key)\n",
    "    mean_open_close_year_values.append(value)\n",
    "\n",
    "#---------------------------------------------------------------------------------------------\n",
    "\n",
    "df['water'].replace({\"cerrada\":0,\"CERRADA\":0},inplace=True)\n",
    "\n",
    "df['water'] = pd.to_numeric(df['water'], downcast=\"float\")\n",
    "sum_water_month = df.groupby('month_year')['water'].sum().to_dict()\n",
    "\n",
    "lista = []\n",
    "\n",
    "for key_value in sum_water_month.items():\n",
    "    lista.append((str(key_value[0].year),key_value[1]))\n",
    "\n",
    "years_data = pd.DataFrame(lista, columns=['year','count'])\n",
    "\n",
    "mean_water_year = years_data.groupby('year')['count'].mean().to_dict()\n",
    "\n",
    "mean_water_year_keys=[]\n",
    "mean_water_year_values=[]\n",
    "for key, value in mean_water_year.items():\n",
    "    mean_water_year_keys.append(key)\n",
    "    mean_water_year_values.append(value)\n",
    "\n",
    "#---------------------------------------------------------------------------------------------\n",
    "df['level'].replace({\"cerrada\":0,\"CERRADA\":0},inplace=True)\n",
    "\n",
    "df['level'] = pd.to_numeric(df['level'], downcast=\"float\")\n",
    "sum_level_month = df.groupby('month_year')['level'].sum().to_dict()\n",
    "\n",
    "lista = []\n",
    "\n",
    "for key_value in sum_level_month.items():\n",
    "    lista.append((str(key_value[0].year),key_value[1]))\n",
    "\n",
    "years_data = pd.DataFrame(lista, columns=['year','count'])\n",
    "\n",
    "mean_level_year = years_data.groupby('year')['count'].mean().to_dict()\n",
    "sem_level_year = years_data.groupby('year')['count'].sem().to_dict()\n",
    "\n",
    "# np.std(datos, ddof=1) / np.sqrt(len(datos))\n",
    "\n",
    "sem_level_year_keys=[]\n",
    "sem_level_year_values=[]\n",
    "for key, value in sem_level_year.items():\n",
    "    sem_level_year_keys.append(key)\n",
    "    sem_level_year_values.append(value)\n",
    "\n",
    "\n",
    "mean_level_year_keys=[]\n",
    "mean_level_year_values=[]\n",
    "for key, value in mean_level_year.items():\n",
    "    mean_level_year_keys.append(key)\n",
    "    mean_level_year_values.append(value)"
   ]
  },
  {
   "cell_type": "code",
   "execution_count": 3,
   "id": "73da0eb2",
   "metadata": {},
   "outputs": [
    {
     "data": {
      "text/plain": [
       "[]"
      ]
     },
     "execution_count": 3,
     "metadata": {},
     "output_type": "execute_result"
    },
    {
     "data": {
      "image/png": "[encoded data removed]",
      "text/plain": [
       "<Figure size 432x288 with 1 Axes>"
      ]
     },
     "metadata": {
      "needs_background": "light"
     },
     "output_type": "display_data"
    }
   ],
   "source": [
    "plt.plot()"
   ]
  },
  {
   "cell_type": "code",
   "execution_count": 4,
   "id": "3862f373",
   "metadata": {},
   "outputs": [],
   "source": [
    "\n",
    "#--------------------------------------------------------------------\n",
    "fig = make_subplots(specs=[[{\"secondary_y\": True}]])\n",
    "\n",
    "fig.add_trace(\n",
    "    go.Bar(\n",
    "        x=mean_level_year_keys,\n",
    "        y=mean_level_year_values,\n",
    "        name=\"Level\",\n",
    "        error_y=dict(type='data', array=sem_level_year_values)),\n",
    "    secondary_y=False,\n",
    "    )\n",
    "\n",
    "fig.update_traces(marker_color='rgb(158,202,225)', marker_line_color='rgb(8,48,107)',\n",
    "                  marker_line_width=1., opacity=0.5)\n",
    "\n",
    "fig.add_trace(\n",
    "    go.Scatter(\n",
    "        x=mean_water_year_keys,\n",
    "        y=mean_water_year_values,\n",
    "    name=\"Sinkholes with water\"),\n",
    "    secondary_y=True)\n",
    "\n",
    "fig.add_trace(\n",
    "    go.Scatter(\n",
    "        x=mean_open_close_year_keys,\n",
    "        y=mean_open_close_year_values,\n",
    "    name=\"Opened sinkholes\"),\n",
    "    secondary_y=True)\n",
    "\n",
    "# Set x-axis title\n",
    "fig.update_xaxes(title_text=\"<b>Year<b>\")\n",
    "\n",
    "# Set y-axes titles\n",
    "fig.update_yaxes(title_text=\"Average <b>Water Level</b> [<i>cm</i>]\", secondary_y=False,range=[0,1000])\n",
    "fig.update_yaxes(title_text=\"<b>Sinkhole number<b>\", secondary_y=True,range=[0,160])\n",
    "\n",
    "fig.update_layout(\n",
    "    width=950,\n",
    "    height=600,\n",
    "    margin=dict(l=80, r=40, t=20, b=40),\n",
    "    paper_bgcolor='rgb(255, 255, 255)',\n",
    ")\n",
    "\n",
    "fig.write_image(\"fig1.png\")\n"
   ]
  },
  {
   "cell_type": "code",
   "execution_count": 13,
   "id": "96aecf10",
   "metadata": {},
   "outputs": [
    {
     "data": {
      "image/png": "[encoded data removed]",
      "text/plain": [
       "<Figure size 1296x936 with 2 Axes>"
      ]
     },
     "metadata": {
      "needs_background": "light"
     },
     "output_type": "display_data"
    }
   ],
   "source": [
    "plt.rcParams['figure.figsize'] = [18, 13]\n",
    "\n",
    "plt.figure()          \n",
    "plt.bar(\n",
    "    mean_level_year_keys, \n",
    "    mean_level_year_values, \n",
    "    width=0.9, \n",
    "    edgecolor='k',\n",
    "    color='k', \n",
    "    yerr=sem_level_year_values, \n",
    "    label='Men means',\n",
    "    alpha = 0.5,\n",
    ")\n",
    "plt.ylabel('Sinkhole Number',fontsize='xx-large')\n",
    "plt.xlabel('Year',fontsize='xx-large')\n",
    "\n",
    "plt.xticks(fontsize=14)\n",
    "plt.yticks(fontsize=14)\n",
    "\n",
    "axes2 = plt.twinx()\n",
    "axes2.plot(mean_water_year_keys, mean_water_year_values,'k--', linewidth=3, label='Sine')\n",
    "axes2.set_ylim(0, 160)\n",
    "axes2.set_ylabel('Average Water Level',fontsize='xx-large')\n",
    "axes2.tick_params(axis='y', labelsize=14)\n",
    "\n",
    "\n",
    "plt.savefig('waterlevel.png')\n",
    "plt.show()"
   ]
  },
  {
   "cell_type": "code",
   "execution_count": null,
   "id": "8a7d792c",
   "metadata": {},
   "outputs": [],
   "source": []
  }
 ],
 "metadata": {
  "kernelspec": {
   "display_name": "Python 3",
   "language": "python",
   "name": "python3"
  },
  "language_info": {
   "codemirror_mode": {
    "name": "ipython",
    "version": 3
   },
   "file_extension": ".py",
   "mimetype": "text/x-python",
   "name": "python",
   "nbconvert_exporter": "python",
   "pygments_lexer": "ipython3",
   "version": "3.8.5"
  }
 },
 "nbformat": 4,
 "nbformat_minor": 5
}
